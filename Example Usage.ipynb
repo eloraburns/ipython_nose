{
 "metadata": {
  "name": "Example Usage"
 },
 "nbformat": 3,
 "nbformat_minor": 0,
 "worksheets": [
  {
   "cells": [
    {
     "cell_type": "code",
     "collapsed": false,
     "input": [
      "%load_ext ipython_nose\n",
      "# %reload_ext ipython_nose"
     ],
     "language": "python",
     "metadata": {},
     "outputs": []
    },
    {
     "cell_type": "code",
     "collapsed": false,
     "input": [
      "from nose import SkipTest\n",
      "\n",
      "def test_foo():\n",
      "    assert True\n",
      "    \n",
      "def test_bar():\n",
      "    assert False\n",
      "    \n",
      "def test_baz():\n",
      "    raise SkipTest(\"Skipped\")\n",
      "    \n",
      "import random\n",
      "import time\n",
      "def test_generate():\n",
      "    for _ in range(random.randint(0, 10)):\n",
      "        time.sleep(0.25)\n",
      "        yield lambda x: None, _\n",
      "    def fail(x):\n",
      "        time.sleep(0.25)\n",
      "        raise AssertionError(\"Failed\")\n",
      "    for _ in range(random.randint(0, 10)):\n",
      "        yield fail, _\n",
      "    def skip(x):\n",
      "        time.sleep(0.25)\n",
      "        raise SkipTest(\"Skipped\")\n",
      "    for _ in range(random.randint(0, 10)):\n",
      "        yield skip, _"
     ],
     "language": "python",
     "metadata": {},
     "outputs": []
    },
    {
     "cell_type": "code",
     "collapsed": false,
     "input": [
      "%nose"
     ],
     "language": "python",
     "metadata": {},
     "outputs": []
    },
    {
     "cell_type": "code",
     "collapsed": false,
     "input": [],
     "language": "python",
     "metadata": {},
     "outputs": []
    }
   ],
   "metadata": {}
  }
 ]
}